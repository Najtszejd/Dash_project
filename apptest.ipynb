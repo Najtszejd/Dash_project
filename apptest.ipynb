{
 "cells": [
  {
   "cell_type": "code",
   "execution_count": 2,
   "metadata": {},
   "outputs": [],
   "source": [
    "import requests\n",
    "import pandas as pd\n",
    "import numpy as np\n",
    "import dash\n",
    "from dash import dcc, html, Output, Input"
   ]
  },
  {
   "cell_type": "code",
   "execution_count": 91,
   "metadata": {},
   "outputs": [
    {
     "name": "stdout",
     "output_type": "stream",
     "text": [
      "<Response [200]>\n"
     ]
    },
    {
     "data": {
      "text/plain": [
       "Index(['dt', 'winning_bid_max', 'winning_bid_min', 'winning_bid_mean',\n",
       "       'auction_trading_volume', 'auction_lots_count',\n",
       "       'all_auctions_lots_count', 'auction_name', 'auction_slug'],\n",
       "      dtype='object')"
      ]
     },
     "execution_count": 91,
     "metadata": {},
     "output_type": "execute_result"
    }
   ],
   "source": [
    "# def main():\n",
    "auctions_data = \"/auctions_data/\"\n",
    "auctions_data_slug = \"/auction_data/{slug}/\"\n",
    "auctions_info = \"/auctions_info\"\n",
    "distilleries_info = \"/distilleries_info/\"\n",
    "distilleries_info_slug = \"/distillery_data/{slug}/\"\n",
    "\n",
    "url = f\"https://whiskyhunter.net/api{auctions_data}\"\n",
    "response = requests.get(url)\n",
    "print(response)\n",
    "data = response.json()\n",
    "df_1 = pd.DataFrame(data)\n",
    "df_1.columns\n"
   ]
  },
  {
   "cell_type": "code",
   "execution_count": 72,
   "metadata": {},
   "outputs": [
    {
     "name": "stdout",
     "output_type": "stream",
     "text": [
      "<Response [200]>\n"
     ]
    },
    {
     "data": {
      "text/plain": [
       "Index(['name', 'slug', 'url', 'buyers_fee', 'sellers_fee', 'reserve_fee',\n",
       "       'listing_fee', 'base_currency'],\n",
       "      dtype='object')"
      ]
     },
     "execution_count": 72,
     "metadata": {},
     "output_type": "execute_result"
    }
   ],
   "source": [
    "url_2 = f\"https://whiskyhunter.net/api{auctions_info}\"\n",
    "response = requests.get(url_2)\n",
    "print(response)\n",
    "data_2 = response.json()\n",
    "df_2 = pd.DataFrame(data_2)\n",
    "df_2.columns"
   ]
  },
  {
   "cell_type": "code",
   "execution_count": 81,
   "metadata": {},
   "outputs": [
    {
     "name": "stdout",
     "output_type": "stream",
     "text": [
      "<Response [200]>\n"
     ]
    },
    {
     "data": {
      "text/plain": [
       "Index(['name', 'slug', 'country', 'whiskybase_whiskies', 'whiskybase_votes',\n",
       "       'whiskybase_rating'],\n",
       "      dtype='object')"
      ]
     },
     "execution_count": 81,
     "metadata": {},
     "output_type": "execute_result"
    }
   ],
   "source": [
    "url_3 = f\"https://whiskyhunter.net/api{distilleries_info}\"\n",
    "response = requests.get(url_3)\n",
    "print(response)\n",
    "data_3 = response.json()\n",
    "df_3 = pd.DataFrame(data_3)\n",
    "df_3.columns"
   ]
  },
  {
   "cell_type": "code",
   "execution_count": 86,
   "metadata": {},
   "outputs": [
    {
     "name": "stdout",
     "output_type": "stream",
     "text": [
      "<Response [200]>\n"
     ]
    }
   ],
   "source": [
    "url_4 = \"https://whiskyhunter.net/api/distilleries_info/\"\n",
    "response = requests.get(url_4)\n",
    "print(response)\n",
    "data_4 = response.json()"
   ]
  },
  {
   "cell_type": "code",
   "execution_count": 90,
   "metadata": {},
   "outputs": [
    {
     "data": {
      "text/plain": [
       "Index(['name', 'slug', 'country', 'whiskybase_whiskies', 'whiskybase_votes',\n",
       "       'whiskybase_rating'],\n",
       "      dtype='object')"
      ]
     },
     "execution_count": 90,
     "metadata": {},
     "output_type": "execute_result"
    }
   ],
   "source": [
    "df_4 = pd.DataFrame(data_4)\n",
    "df_4.columns"
   ]
  },
  {
   "cell_type": "code",
   "execution_count": null,
   "metadata": {},
   "outputs": [],
   "source": []
  }
 ],
 "metadata": {
  "kernelspec": {
   "display_name": ".venv",
   "language": "python",
   "name": "python3"
  },
  "language_info": {
   "codemirror_mode": {
    "name": "ipython",
    "version": 3
   },
   "file_extension": ".py",
   "mimetype": "text/x-python",
   "name": "python",
   "nbconvert_exporter": "python",
   "pygments_lexer": "ipython3",
   "version": "3.12.8"
  }
 },
 "nbformat": 4,
 "nbformat_minor": 2
}
