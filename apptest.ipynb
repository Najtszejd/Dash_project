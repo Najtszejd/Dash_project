{
 "cells": [
  {
   "cell_type": "code",
   "execution_count": 2,
   "metadata": {},
   "outputs": [],
   "source": [
    "import requests\n",
    "import pandas as pd\n",
    "import numpy as np\n",
    "import dash\n",
    "from dash import dcc, html, Output, Input"
   ]
  },
  {
   "cell_type": "code",
   "execution_count": 20,
   "metadata": {},
   "outputs": [
    {
     "name": "stdout",
     "output_type": "stream",
     "text": [
      "<Response [200]>\n"
     ]
    },
    {
     "data": {
      "text/plain": [
       "Index(['dt', 'winning_bid_max', 'winning_bid_min', 'winning_bid_mean',\n",
       "       'auction_trading_volume', 'auction_lots_count',\n",
       "       'all_auctions_lots_count', 'auction_name', 'auction_slug'],\n",
       "      dtype='object')"
      ]
     },
     "execution_count": 20,
     "metadata": {},
     "output_type": "execute_result"
    }
   ],
   "source": [
    "# def main():\n",
    "auctions_data = \"/auctions_data/\"\n",
    "auctions_data_slug = \"/auction_data/{slug}/\"\n",
    "auctions_info = \"/auctions_info\"\n",
    "distilleries_info = \"/distilleries_info/\"\n",
    "distilleries_info_slug = \"/distillery_data/aberargie/\"\n",
    "\n",
    "url = f\"https://whiskyhunter.net/api{auctions_data}\"\n",
    "response = requests.get(url)\n",
    "print(response)\n",
    "data = response.json()\n",
    "df_1 = pd.DataFrame(data)\n",
    "df_1_filtered = df_1[df_1[\"dt\"]>\"2023-01-01\"]\n",
    "df_1_filtered.columns"
   ]
  },
  {
   "cell_type": "code",
   "execution_count": 28,
   "metadata": {},
   "outputs": [],
   "source": [
    "df_1_test = df_1_filtered.groupby(\"auction_name\")[[\"auction_lots_count\",\"auction_trading_volume\"]].sum().sort_values(by=\"auction_trading_volume\",ascending=False)"
   ]
  },
  {
   "cell_type": "code",
   "execution_count": 29,
   "metadata": {},
   "outputs": [
    {
     "data": {
      "text/html": [
       "<div>\n",
       "<style scoped>\n",
       "    .dataframe tbody tr th:only-of-type {\n",
       "        vertical-align: middle;\n",
       "    }\n",
       "\n",
       "    .dataframe tbody tr th {\n",
       "        vertical-align: top;\n",
       "    }\n",
       "\n",
       "    .dataframe thead th {\n",
       "        text-align: right;\n",
       "    }\n",
       "</style>\n",
       "<table border=\"1\" class=\"dataframe\">\n",
       "  <thead>\n",
       "    <tr style=\"text-align: right;\">\n",
       "      <th></th>\n",
       "      <th>auction_lots_count</th>\n",
       "      <th>auction_trading_volume</th>\n",
       "    </tr>\n",
       "    <tr>\n",
       "      <th>auction_name</th>\n",
       "      <th></th>\n",
       "      <th></th>\n",
       "    </tr>\n",
       "  </thead>\n",
       "  <tbody>\n",
       "    <tr>\n",
       "      <th>Whisky Auctioneer</th>\n",
       "      <td>169862</td>\n",
       "      <td>69665200.00</td>\n",
       "    </tr>\n",
       "    <tr>\n",
       "      <th>Unicorn Auctions</th>\n",
       "      <td>203886</td>\n",
       "      <td>46458546.10</td>\n",
       "    </tr>\n",
       "    <tr>\n",
       "      <th>Scotch Whisky Auctions</th>\n",
       "      <td>163333</td>\n",
       "      <td>38376365.00</td>\n",
       "    </tr>\n",
       "    <tr>\n",
       "      <th>Sotheby's Whisky Auction</th>\n",
       "      <td>8998</td>\n",
       "      <td>32270452.90</td>\n",
       "    </tr>\n",
       "    <tr>\n",
       "      <th>WhiskyAuction.com</th>\n",
       "      <td>147833</td>\n",
       "      <td>24325603.40</td>\n",
       "    </tr>\n",
       "    <tr>\n",
       "      <th>Catawiki Whisky Auction</th>\n",
       "      <td>126159</td>\n",
       "      <td>23220408.90</td>\n",
       "    </tr>\n",
       "    <tr>\n",
       "      <th>Whisky Hammer</th>\n",
       "      <td>54572</td>\n",
       "      <td>18481750.00</td>\n",
       "    </tr>\n",
       "    <tr>\n",
       "      <th>The Grand Whisky Auction</th>\n",
       "      <td>46837</td>\n",
       "      <td>12238617.50</td>\n",
       "    </tr>\n",
       "    <tr>\n",
       "      <th>Whisky.Auction</th>\n",
       "      <td>41987</td>\n",
       "      <td>7978143.00</td>\n",
       "    </tr>\n",
       "    <tr>\n",
       "      <th>The Whisky Shop Auctions</th>\n",
       "      <td>34420</td>\n",
       "      <td>6260210.00</td>\n",
       "    </tr>\n",
       "    <tr>\n",
       "      <th>Just Whisky Auctions</th>\n",
       "      <td>27669</td>\n",
       "      <td>5842946.69</td>\n",
       "    </tr>\n",
       "    <tr>\n",
       "      <th>Irish Whiskey Auctions</th>\n",
       "      <td>26605</td>\n",
       "      <td>5262312.10</td>\n",
       "    </tr>\n",
       "    <tr>\n",
       "      <th>Australian Whisky Auctions</th>\n",
       "      <td>22674</td>\n",
       "      <td>4744350.70</td>\n",
       "    </tr>\n",
       "    <tr>\n",
       "      <th>WVA Whisky Auctions</th>\n",
       "      <td>21076</td>\n",
       "      <td>4730241.00</td>\n",
       "    </tr>\n",
       "    <tr>\n",
       "      <th>Rum Auctioneer</th>\n",
       "      <td>18635</td>\n",
       "      <td>4334557.00</td>\n",
       "    </tr>\n",
       "    <tr>\n",
       "      <th>Ebay Whisky Auctions</th>\n",
       "      <td>35895</td>\n",
       "      <td>4244791.70</td>\n",
       "    </tr>\n",
       "    <tr>\n",
       "      <th>Speyside Whisky Auctions</th>\n",
       "      <td>13922</td>\n",
       "      <td>2913399.00</td>\n",
       "    </tr>\n",
       "    <tr>\n",
       "      <th>Whisky-Online Auctions</th>\n",
       "      <td>12884</td>\n",
       "      <td>2879362.00</td>\n",
       "    </tr>\n",
       "    <tr>\n",
       "      <th>Bonhams Whisky Auction</th>\n",
       "      <td>1175</td>\n",
       "      <td>2576539.90</td>\n",
       "    </tr>\n",
       "    <tr>\n",
       "      <th>Highland Whisky Auctions</th>\n",
       "      <td>16088</td>\n",
       "      <td>2285918.88</td>\n",
       "    </tr>\n",
       "    <tr>\n",
       "      <th>Whiskey Bidders</th>\n",
       "      <td>9410</td>\n",
       "      <td>2210802.80</td>\n",
       "    </tr>\n",
       "    <tr>\n",
       "      <th>Whisky Bull Auctions</th>\n",
       "      <td>3304</td>\n",
       "      <td>2055864.51</td>\n",
       "    </tr>\n",
       "    <tr>\n",
       "      <th>RumTrades Auction</th>\n",
       "      <td>3784</td>\n",
       "      <td>1818722.10</td>\n",
       "    </tr>\n",
       "    <tr>\n",
       "      <th>Prestige Whisky Auction</th>\n",
       "      <td>10671</td>\n",
       "      <td>1168926.70</td>\n",
       "    </tr>\n",
       "    <tr>\n",
       "      <th>European Whisky Auctions</th>\n",
       "      <td>5069</td>\n",
       "      <td>1153019.10</td>\n",
       "    </tr>\n",
       "    <tr>\n",
       "      <th>McTear's Whisky Auction</th>\n",
       "      <td>5645</td>\n",
       "      <td>1128020.00</td>\n",
       "    </tr>\n",
       "    <tr>\n",
       "      <th>Waddington's Whisky Auction</th>\n",
       "      <td>2404</td>\n",
       "      <td>840564.70</td>\n",
       "    </tr>\n",
       "    <tr>\n",
       "      <th>Celtic Whiskey Auction</th>\n",
       "      <td>3232</td>\n",
       "      <td>606758.30</td>\n",
       "    </tr>\n",
       "    <tr>\n",
       "      <th>Whisky Auktion Berlin</th>\n",
       "      <td>5847</td>\n",
       "      <td>518279.10</td>\n",
       "    </tr>\n",
       "    <tr>\n",
       "      <th>WhiskyTrades Auction</th>\n",
       "      <td>1420</td>\n",
       "      <td>261262.50</td>\n",
       "    </tr>\n",
       "  </tbody>\n",
       "</table>\n",
       "</div>"
      ],
      "text/plain": [
       "                             auction_lots_count  auction_trading_volume\n",
       "auction_name                                                           \n",
       "Whisky Auctioneer                        169862             69665200.00\n",
       "Unicorn Auctions                         203886             46458546.10\n",
       "Scotch Whisky Auctions                   163333             38376365.00\n",
       "Sotheby's Whisky Auction                   8998             32270452.90\n",
       "WhiskyAuction.com                        147833             24325603.40\n",
       "Catawiki Whisky Auction                  126159             23220408.90\n",
       "Whisky Hammer                             54572             18481750.00\n",
       "The Grand Whisky Auction                  46837             12238617.50\n",
       "Whisky.Auction                            41987              7978143.00\n",
       "The Whisky Shop Auctions                  34420              6260210.00\n",
       "Just Whisky Auctions                      27669              5842946.69\n",
       "Irish Whiskey Auctions                    26605              5262312.10\n",
       "Australian Whisky Auctions                22674              4744350.70\n",
       "WVA Whisky Auctions                       21076              4730241.00\n",
       "Rum Auctioneer                            18635              4334557.00\n",
       "Ebay Whisky Auctions                      35895              4244791.70\n",
       "Speyside Whisky Auctions                  13922              2913399.00\n",
       "Whisky-Online Auctions                    12884              2879362.00\n",
       "Bonhams Whisky Auction                     1175              2576539.90\n",
       "Highland Whisky Auctions                  16088              2285918.88\n",
       "Whiskey Bidders                            9410              2210802.80\n",
       "Whisky Bull Auctions                       3304              2055864.51\n",
       "RumTrades Auction                          3784              1818722.10\n",
       "Prestige Whisky Auction                   10671              1168926.70\n",
       "European Whisky Auctions                   5069              1153019.10\n",
       "McTear's Whisky Auction                    5645              1128020.00\n",
       "Waddington's Whisky Auction                2404               840564.70\n",
       "Celtic Whiskey Auction                     3232               606758.30\n",
       "Whisky Auktion Berlin                      5847               518279.10\n",
       "WhiskyTrades Auction                       1420               261262.50"
      ]
     },
     "execution_count": 29,
     "metadata": {},
     "output_type": "execute_result"
    }
   ],
   "source": [
    "df_1_test"
   ]
  },
  {
   "cell_type": "code",
   "execution_count": 4,
   "metadata": {},
   "outputs": [
    {
     "name": "stdout",
     "output_type": "stream",
     "text": [
      "<Response [200]>\n"
     ]
    },
    {
     "data": {
      "text/plain": [
       "Index(['name', 'slug', 'url', 'buyers_fee', 'sellers_fee', 'reserve_fee',\n",
       "       'listing_fee', 'base_currency'],\n",
       "      dtype='object')"
      ]
     },
     "execution_count": 4,
     "metadata": {},
     "output_type": "execute_result"
    }
   ],
   "source": [
    "url_2 = f\"https://whiskyhunter.net/api{auctions_info}\"\n",
    "response = requests.get(url_2)\n",
    "print(response)\n",
    "data_2 = response.json()\n",
    "df_2 = pd.DataFrame(data_2)\n",
    "df_2.columns"
   ]
  },
  {
   "cell_type": "code",
   "execution_count": 5,
   "metadata": {},
   "outputs": [
    {
     "name": "stdout",
     "output_type": "stream",
     "text": [
      "<Response [200]>\n"
     ]
    },
    {
     "data": {
      "text/plain": [
       "Index(['name', 'slug', 'country', 'whiskybase_whiskies', 'whiskybase_votes',\n",
       "       'whiskybase_rating'],\n",
       "      dtype='object')"
      ]
     },
     "execution_count": 5,
     "metadata": {},
     "output_type": "execute_result"
    }
   ],
   "source": [
    "url_3 = f\"https://whiskyhunter.net/api{distilleries_info}\"\n",
    "response = requests.get(url_3)\n",
    "print(response)\n",
    "data_3 = response.json()\n",
    "df_3 = pd.DataFrame(data_3)\n",
    "df_3.columns"
   ]
  },
  {
   "cell_type": "code",
   "execution_count": 6,
   "metadata": {},
   "outputs": [
    {
     "name": "stdout",
     "output_type": "stream",
     "text": [
      "<Response [200]>\n"
     ]
    }
   ],
   "source": [
    "url_4 = \"https://whiskyhunter.net/api/distilleries_info/\"\n",
    "response = requests.get(url_4)\n",
    "print(response)\n",
    "data_4 = response.json()"
   ]
  },
  {
   "cell_type": "code",
   "execution_count": 7,
   "metadata": {},
   "outputs": [
    {
     "ename": "TypeError",
     "evalue": "'DataFrame' object is not callable",
     "output_type": "error",
     "traceback": [
      "\u001b[1;31m---------------------------------------------------------------------------\u001b[0m",
      "\u001b[1;31mTypeError\u001b[0m                                 Traceback (most recent call last)",
      "Cell \u001b[1;32mIn[7], line 2\u001b[0m\n\u001b[0;32m      1\u001b[0m df_4 \u001b[38;5;241m=\u001b[39m pd\u001b[38;5;241m.\u001b[39mDataFrame(data_4)\n\u001b[1;32m----> 2\u001b[0m \u001b[43mdf_4\u001b[49m\u001b[43m(\u001b[49m\u001b[43m[\u001b[49m\u001b[38;5;124;43m\"\u001b[39;49m\u001b[38;5;124;43mwhiskybase_whiskies\u001b[39;49m\u001b[38;5;124;43m\"\u001b[39;49m\u001b[43m]\u001b[49m\u001b[43m \u001b[49m\u001b[38;5;241;43m==\u001b[39;49m\u001b[43m \u001b[49m\u001b[38;5;241;43m0\u001b[39;49m\u001b[43m)\u001b[49m\n",
      "\u001b[1;31mTypeError\u001b[0m: 'DataFrame' object is not callable"
     ]
    }
   ],
   "source": [
    "df_4 = pd.DataFrame(data_4)\n",
    "df_4([\"whiskybase_whiskies\"] == 0)"
   ]
  },
  {
   "cell_type": "code",
   "execution_count": null,
   "metadata": {},
   "outputs": [],
   "source": [
    "whiskey_country_keys = [country for country in df_4[\"country\"]]"
   ]
  },
  {
   "cell_type": "code",
   "execution_count": null,
   "metadata": {},
   "outputs": [
    {
     "name": "stderr",
     "output_type": "stream",
     "text": [
      "C:\\Users\\Najt\\AppData\\Local\\Temp\\ipykernel_17864\\1501827092.py:1: FutureWarning: unique with argument that is not not a Series, Index, ExtensionArray, or np.ndarray is deprecated and will raise in a future version.\n",
      "  pd.unique(whiskey_country_keys)\n"
     ]
    },
    {
     "data": {
      "text/plain": [
       "array(['Scotland', 'Japan', 'Taiwan'], dtype=object)"
      ]
     },
     "execution_count": 60,
     "metadata": {},
     "output_type": "execute_result"
    }
   ],
   "source": []
  },
  {
   "cell_type": "code",
   "execution_count": null,
   "metadata": {},
   "outputs": [],
   "source": [
    "import plotly.express as px\n",
    "df = px.data.gapminder()"
   ]
  },
  {
   "cell_type": "code",
   "execution_count": null,
   "metadata": {},
   "outputs": [
    {
     "data": {
      "text/html": [
       "<div>\n",
       "<style scoped>\n",
       "    .dataframe tbody tr th:only-of-type {\n",
       "        vertical-align: middle;\n",
       "    }\n",
       "\n",
       "    .dataframe tbody tr th {\n",
       "        vertical-align: top;\n",
       "    }\n",
       "\n",
       "    .dataframe thead th {\n",
       "        text-align: right;\n",
       "    }\n",
       "</style>\n",
       "<table border=\"1\" class=\"dataframe\">\n",
       "  <thead>\n",
       "    <tr style=\"text-align: right;\">\n",
       "      <th></th>\n",
       "      <th>continent</th>\n",
       "      <th>country</th>\n",
       "      <th>iso_alpha</th>\n",
       "      <th>iso_num</th>\n",
       "    </tr>\n",
       "  </thead>\n",
       "  <tbody>\n",
       "    <tr>\n",
       "      <th>0</th>\n",
       "      <td>Asia</td>\n",
       "      <td>Afghanistan</td>\n",
       "      <td>AFG</td>\n",
       "      <td>4</td>\n",
       "    </tr>\n",
       "    <tr>\n",
       "      <th>1</th>\n",
       "      <td>Asia</td>\n",
       "      <td>Afghanistan</td>\n",
       "      <td>AFG</td>\n",
       "      <td>4</td>\n",
       "    </tr>\n",
       "    <tr>\n",
       "      <th>2</th>\n",
       "      <td>Asia</td>\n",
       "      <td>Afghanistan</td>\n",
       "      <td>AFG</td>\n",
       "      <td>4</td>\n",
       "    </tr>\n",
       "    <tr>\n",
       "      <th>3</th>\n",
       "      <td>Asia</td>\n",
       "      <td>Afghanistan</td>\n",
       "      <td>AFG</td>\n",
       "      <td>4</td>\n",
       "    </tr>\n",
       "    <tr>\n",
       "      <th>4</th>\n",
       "      <td>Asia</td>\n",
       "      <td>Afghanistan</td>\n",
       "      <td>AFG</td>\n",
       "      <td>4</td>\n",
       "    </tr>\n",
       "    <tr>\n",
       "      <th>...</th>\n",
       "      <td>...</td>\n",
       "      <td>...</td>\n",
       "      <td>...</td>\n",
       "      <td>...</td>\n",
       "    </tr>\n",
       "    <tr>\n",
       "      <th>1699</th>\n",
       "      <td>Africa</td>\n",
       "      <td>Zimbabwe</td>\n",
       "      <td>ZWE</td>\n",
       "      <td>716</td>\n",
       "    </tr>\n",
       "    <tr>\n",
       "      <th>1700</th>\n",
       "      <td>Africa</td>\n",
       "      <td>Zimbabwe</td>\n",
       "      <td>ZWE</td>\n",
       "      <td>716</td>\n",
       "    </tr>\n",
       "    <tr>\n",
       "      <th>1701</th>\n",
       "      <td>Africa</td>\n",
       "      <td>Zimbabwe</td>\n",
       "      <td>ZWE</td>\n",
       "      <td>716</td>\n",
       "    </tr>\n",
       "    <tr>\n",
       "      <th>1702</th>\n",
       "      <td>Africa</td>\n",
       "      <td>Zimbabwe</td>\n",
       "      <td>ZWE</td>\n",
       "      <td>716</td>\n",
       "    </tr>\n",
       "    <tr>\n",
       "      <th>1703</th>\n",
       "      <td>Africa</td>\n",
       "      <td>Zimbabwe</td>\n",
       "      <td>ZWE</td>\n",
       "      <td>716</td>\n",
       "    </tr>\n",
       "  </tbody>\n",
       "</table>\n",
       "<p>1704 rows × 4 columns</p>\n",
       "</div>"
      ],
      "text/plain": [
       "     continent      country iso_alpha  iso_num\n",
       "0         Asia  Afghanistan       AFG        4\n",
       "1         Asia  Afghanistan       AFG        4\n",
       "2         Asia  Afghanistan       AFG        4\n",
       "3         Asia  Afghanistan       AFG        4\n",
       "4         Asia  Afghanistan       AFG        4\n",
       "...        ...          ...       ...      ...\n",
       "1699    Africa     Zimbabwe       ZWE      716\n",
       "1700    Africa     Zimbabwe       ZWE      716\n",
       "1701    Africa     Zimbabwe       ZWE      716\n",
       "1702    Africa     Zimbabwe       ZWE      716\n",
       "1703    Africa     Zimbabwe       ZWE      716\n",
       "\n",
       "[1704 rows x 4 columns]"
      ]
     },
     "execution_count": 53,
     "metadata": {},
     "output_type": "execute_result"
    }
   ],
   "source": [
    "df[[\"continent\",\"country\",\"iso_alpha\",\"iso_num\"]]"
   ]
  },
  {
   "cell_type": "code",
   "execution_count": null,
   "metadata": {},
   "outputs": [],
   "source": []
  }
 ],
 "metadata": {
  "kernelspec": {
   "display_name": ".venv",
   "language": "python",
   "name": "python3"
  },
  "language_info": {
   "codemirror_mode": {
    "name": "ipython",
    "version": 3
   },
   "file_extension": ".py",
   "mimetype": "text/x-python",
   "name": "python",
   "nbconvert_exporter": "python",
   "pygments_lexer": "ipython3",
   "version": "3.12.8"
  }
 },
 "nbformat": 4,
 "nbformat_minor": 2
}
